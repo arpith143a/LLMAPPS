{
 "cells": [
  {
   "cell_type": "code",
   "execution_count": 6,
   "metadata": {},
   "outputs": [],
   "source": [
    "from langchain_community.document_loaders import PyPDFLoader\n",
    "from langchain_community.document_loaders import PyPDFDirectoryLoader\n",
    "from langchain.text_splitter import RecursiveCharacterTextSplitter\n",
    "from langchain_community.vectorstores import Chroma\n",
    "\n",
    "from langchain_community.embeddings import HuggingFaceEmbeddings\n",
    "\n",
    "from langchain.prompts import PromptTemplate\n",
    "from langchain.chains import RetrievalQA\n"
   ]
  },
  {
   "cell_type": "code",
   "execution_count": 7,
   "metadata": {},
   "outputs": [
    {
     "data": {
      "text/plain": [
       "Document(page_content='Health Insurance Coverage Status and Type \\nby Geography: 2021 and 2022\\nAmerican Community Survey Briefs\\nACSBR-015Issued September 2023Douglas Conway and Breauna Branch\\nINTRODUCTION\\nDemographic shifts as well as economic and govern-\\nment policy changes can affect people’s access to health coverage. For example, between 2021 and 2022, the labor market continued to improve, which may have affected private coverage in the United States \\nduring that time.\\n1 Public policy changes included \\nthe renewal of the Public Health Emergency, which \\nallowed Medicaid enrollees to remain covered under the Continuous Enrollment Provision.\\n2 The American \\nRescue Plan (ARP) enhanced Marketplace premium subsidies for those with incomes above 400 percent of the poverty level as well as for unemployed people.\\n3', metadata={'source': 'us_census\\\\acsbr-015.pdf', 'page': 0})"
      ]
     },
     "execution_count": 7,
     "metadata": {},
     "output_type": "execute_result"
    }
   ],
   "source": [
    "#Read pdfs from folder\n",
    "loader=PyPDFDirectoryLoader(\"./us_census\")\n",
    "\n",
    "documents=loader.load()\n",
    "\n",
    "text_splitter=RecursiveCharacterTextSplitter(chunk_size=1000,chunk_overlap=200)\n",
    "\n",
    "final_documents=text_splitter.split_documents(documents)\n",
    "final_documents[0]"
   ]
  },
  {
   "cell_type": "code",
   "execution_count": 8,
   "metadata": {},
   "outputs": [
    {
     "data": {
      "text/plain": [
       "316"
      ]
     },
     "execution_count": 8,
     "metadata": {},
     "output_type": "execute_result"
    }
   ],
   "source": [
    "len(final_documents)"
   ]
  },
  {
   "cell_type": "code",
   "execution_count": 11,
   "metadata": {},
   "outputs": [
    {
     "name": "stderr",
     "output_type": "stream",
     "text": [
      "c:\\Users\\Arpith Paida\\Documents\\Projects\\LANGCHAIN1\\venv\\lib\\site-packages\\sentence_transformers\\cross_encoder\\CrossEncoder.py:11: TqdmWarning: IProgress not found. Please update jupyter and ipywidgets. See https://ipywidgets.readthedocs.io/en/stable/user_install.html\n",
      "  from tqdm.autonotebook import tqdm, trange\n",
      "c:\\Users\\Arpith Paida\\Documents\\Projects\\LANGCHAIN1\\venv\\lib\\site-packages\\huggingface_hub\\file_download.py:157: UserWarning: `huggingface_hub` cache-system uses symlinks by default to efficiently store duplicated files but your machine does not support them in C:\\Users\\Arpith Paida\\.cache\\huggingface\\hub\\models--BAAI--bge-small-en-v1.5. Caching files will still work but in a degraded version that might require more space on your disk. This warning can be disabled by setting the `HF_HUB_DISABLE_SYMLINKS_WARNING` environment variable. For more details, see https://huggingface.co/docs/huggingface_hub/how-to-cache#limitations.\n",
      "To support symlinks on Windows, you either need to activate Developer Mode or to run Python as an administrator. In order to see activate developer mode, see this article: https://docs.microsoft.com/en-us/windows/apps/get-started/enable-your-device-for-development\n",
      "  warnings.warn(message)\n",
      "c:\\Users\\Arpith Paida\\Documents\\Projects\\LANGCHAIN1\\venv\\lib\\site-packages\\huggingface_hub\\file_download.py:1132: FutureWarning: `resume_download` is deprecated and will be removed in version 1.0.0. Downloads always resume when possible. If you want to force a new download, use `force_download=True`.\n",
      "  warnings.warn(\n"
     ]
    }
   ],
   "source": [
    "huggingface_embeddings=HuggingFaceEmbeddings(\n",
    "    model_name=\"BAAI/bge-small-en-v1.5\",      #sentence-transformers/all-MiniLM-l6-v2\n",
    "    model_kwargs={'device':'cpu'},\n",
    "    encode_kwargs={'normalize_embeddings':True}\n",
    ")"
   ]
  },
  {
   "cell_type": "code",
   "execution_count": 18,
   "metadata": {},
   "outputs": [
    {
     "name": "stdout",
     "output_type": "stream",
     "text": [
      "[-7.81247392e-02 -1.76957231e-02 -2.55395211e-02  3.16485800e-02\n",
      "  4.89566810e-02  5.73916398e-02 -3.41919921e-02  2.61430833e-02\n",
      " -9.73034725e-02 -2.28453204e-02  7.35054463e-02  5.15417606e-02\n",
      " -1.08876303e-02 -3.11451629e-02  3.21607059e-03  4.89183180e-02\n",
      " -1.29311206e-02 -1.42326951e-03 -3.19030881e-02  2.54794806e-02\n",
      " -3.13170739e-02  3.35001871e-02 -2.71926541e-02 -4.65958938e-02\n",
      "  1.61344726e-02  1.42099531e-02 -7.43198395e-03  1.13744894e-02\n",
      " -5.09818569e-02 -1.41039521e-01  4.36503999e-03  2.54208185e-02\n",
      " -5.71403801e-02 -1.06509645e-02  2.70821210e-02  1.18388077e-02\n",
      " -2.27215644e-02  7.71624744e-02  4.27384116e-02  6.18330725e-02\n",
      " -3.68239954e-02  4.53975005e-03 -2.01893207e-02 -4.70246794e-03\n",
      " -2.41782814e-02 -5.31231235e-05 -3.19753475e-02 -4.51396545e-03\n",
      "  3.41199874e-03 -5.89688681e-02  2.63294503e-02 -8.91797245e-03\n",
      "  5.06487750e-02  6.75783083e-02  6.58879504e-02 -4.71076258e-02\n",
      "  2.60821730e-02 -2.50375960e-02 -4.24258895e-02  3.94773334e-02\n",
      "  4.30341288e-02 -3.05915694e-03 -2.54018158e-01  9.78376195e-02\n",
      "  3.80830071e-03  5.17532304e-02 -8.52783769e-03 -5.16660092e-03\n",
      " -1.26970746e-02 -4.98780869e-02 -6.95901439e-02  4.68832552e-02\n",
      " -5.29111698e-02  1.23204971e-02  4.23077792e-02  2.68690456e-02\n",
      "  9.91756679e-04  4.65204520e-03  2.35589948e-02 -6.82712533e-03\n",
      "  2.77275145e-02  3.04744933e-02 -5.07144025e-03 -4.87570241e-02\n",
      "  4.65191007e-02 -9.62209478e-02  5.39404824e-02 -4.13245112e-02\n",
      "  2.67015249e-02 -2.31748391e-02 -3.70870382e-02  5.25656389e-03\n",
      " -1.77894149e-03  4.62044999e-02  8.91939178e-03  3.03580221e-02\n",
      "  5.64758666e-03 -9.07963235e-03 -2.31864061e-02  3.48599046e-01\n",
      " -2.24079844e-02  1.17084859e-02 -2.65762839e-03  1.97460782e-02\n",
      " -3.89646855e-03 -6.07787333e-02 -2.72692624e-03 -2.46990751e-03\n",
      "  2.28305869e-02  2.43423283e-02  1.76880956e-02 -2.82149445e-02\n",
      "  3.21699865e-02  4.11932729e-02 -4.03736942e-02 -1.63817480e-02\n",
      "  3.43866497e-02  1.64802093e-02  1.02738105e-01 -2.25198958e-02\n",
      " -9.27475747e-03  1.88899580e-02 -5.46729239e-03 -4.33605649e-02\n",
      "  2.41942070e-02  5.93903325e-02  4.94766720e-02  1.43657446e-01\n",
      "  1.92426257e-02 -3.24023478e-02  1.00246675e-01 -2.70330645e-02\n",
      " -6.44376269e-03  8.90877470e-03  3.66607821e-03  6.26661070e-03\n",
      " -2.73957327e-02  4.70563807e-02 -4.28214297e-03  4.65563908e-02\n",
      "  5.79229742e-03 -1.28824906e-02  2.35025119e-03 -1.45889923e-01\n",
      " -3.15612257e-02  1.90610826e-01 -3.73011492e-02  4.59098369e-02\n",
      "  3.35218944e-02 -1.46756079e-02 -3.79796140e-02  5.42248748e-02\n",
      " -2.19602082e-02  3.59708145e-02 -3.32793407e-02  2.20534429e-02\n",
      " -3.03291203e-03  2.65263971e-02 -2.28263661e-02 -5.64959012e-02\n",
      "  6.15022890e-02 -2.97975820e-02 -6.51540607e-02  2.13324279e-02\n",
      "  2.98220627e-02 -3.56650576e-02 -1.14562288e-02 -6.41672388e-02\n",
      "  3.40561308e-02  1.35900360e-02  1.85061209e-02  4.57458645e-02\n",
      "  2.26933584e-02 -3.83201316e-02  1.02677993e-01  2.46025268e-02\n",
      " -2.76253317e-02 -1.25100128e-02 -1.23201571e-02 -6.83875382e-02\n",
      "  1.29090371e-02 -1.55035481e-02 -5.87592348e-02 -4.19779681e-02\n",
      " -1.28534939e-02 -3.79153937e-02 -5.20134382e-02  4.49131615e-02\n",
      "  5.16483188e-02 -1.81278083e-02 -8.09739251e-03  1.15954329e-03\n",
      " -6.01871386e-02  2.71444600e-02 -1.92667730e-03 -7.37606501e-03\n",
      " -5.63421100e-02 -1.16113955e-02  5.05759157e-02 -3.40242200e-02\n",
      " -2.36749761e-02  2.56101321e-02  6.26767566e-03 -1.88226730e-03\n",
      " -1.17351431e-02  1.62611250e-02  2.21226215e-02 -6.06776923e-02\n",
      "  4.68587354e-02 -6.22494984e-03  5.43428073e-03  3.50181125e-02\n",
      "  4.23124284e-02 -3.54958070e-03  2.60240640e-02  1.92347355e-02\n",
      "  1.43841701e-02 -2.85671018e-02  1.68740768e-02  2.93862578e-02\n",
      "  2.70718765e-02  7.55260959e-02  8.50303620e-02 -2.69179434e-01\n",
      " -1.55388995e-03  6.61775609e-03  8.64367932e-03 -7.18411952e-02\n",
      " -4.33050729e-02 -4.11191583e-02  3.47098671e-02  1.21191004e-02\n",
      "  9.28020030e-02  5.53143770e-02  1.12788705e-02 -1.23230917e-02\n",
      "  9.41456780e-02  5.73405670e-03 -7.67926350e-02  2.38202289e-02\n",
      " -2.12229155e-02 -2.07881145e-02 -1.53883814e-03 -6.64363196e-03\n",
      "  1.09863176e-03 -5.69861457e-02 -2.28427108e-02  7.64911547e-02\n",
      " -1.04706855e-02  6.85805902e-02 -4.77102809e-02 -8.27505440e-02\n",
      " -3.71821877e-03 -5.37916049e-02  4.61427979e-02 -1.51714534e-02\n",
      " -1.15709260e-01  6.83009028e-02  1.74375921e-02 -7.59843588e-02\n",
      " -9.12035629e-03 -6.28045499e-02 -3.38083357e-02 -9.23878700e-03\n",
      "  4.82338965e-02 -6.70481548e-02  2.24638730e-02 -1.71070360e-02\n",
      " -5.84935881e-02  3.74358296e-02  7.72249624e-02 -6.75234497e-02\n",
      "  8.86813924e-03  1.09662265e-02 -2.49427613e-02 -2.00862214e-02\n",
      " -1.46261016e-02  2.66519934e-02 -6.21357337e-02 -2.91901622e-02\n",
      "  2.68021300e-02 -1.52352722e-02 -7.41738873e-03  3.47748548e-02\n",
      "  4.37939394e-04  4.17441502e-02 -1.17908390e-02 -7.37496279e-03\n",
      " -4.53235209e-02  3.68853123e-03 -2.21894030e-02 -8.16006362e-02\n",
      "  1.46977874e-02  1.01328082e-02  4.57178168e-02 -3.31008025e-02\n",
      " -1.16769476e-02  2.87449057e-03 -9.24655609e-03  5.36123291e-02\n",
      " -1.26433466e-03 -1.16251074e-02 -5.09654656e-02  5.40338159e-02\n",
      " -5.09404317e-02  1.17273647e-02  4.23680544e-02 -1.64591167e-02\n",
      "  2.86400900e-03  4.26310697e-04 -1.04785804e-03 -5.56171406e-03\n",
      "  1.81074478e-02 -1.96518693e-02 -2.51652915e-02 -1.00063961e-02\n",
      " -3.07635088e-02 -1.33642484e-03  2.74080131e-03 -2.28065580e-01\n",
      "  4.82722931e-02  2.36120205e-02 -1.12394392e-02 -1.08132036e-02\n",
      " -1.18230721e-02 -2.71673314e-02  7.52508314e-03 -1.55816870e-02\n",
      " -2.47901361e-02  4.70631830e-02  7.96824098e-02  1.27833530e-01\n",
      " -1.63246319e-02 -1.44523950e-02 -5.22457901e-03  6.20973147e-02\n",
      " -6.54096017e-03  2.22331006e-02 -3.23942713e-02  4.87980507e-02\n",
      " -5.80380298e-02  1.57769173e-01 -3.94337140e-02  2.50605717e-02\n",
      " -7.99468830e-02 -1.31104039e-02  3.63445841e-02 -3.50947827e-02\n",
      "  1.17586236e-02  1.11300834e-02 -2.05490433e-04  2.77747400e-02\n",
      " -2.74772532e-02  5.55169471e-02  1.40493028e-02  1.28763728e-02\n",
      "  4.60641310e-02  1.10124825e-02  1.48489522e-02 -4.04883437e-02\n",
      " -2.10875422e-02  1.43548343e-02  8.99079908e-03  6.02994747e-02\n",
      " -2.67711170e-02 -5.30606061e-02 -6.01960085e-02  4.91385348e-03\n",
      "  6.60683140e-02  1.81400287e-03 -1.52023286e-02  2.40952871e-03\n",
      "  1.31124854e-02 -4.81967255e-02 -1.91637166e-02 -5.67975007e-02\n",
      "  2.93609798e-02 -9.74009745e-03 -1.55581040e-02  3.25359218e-02\n",
      "  3.58298793e-02 -7.87988454e-02  1.90156717e-02  6.29332215e-02]\n",
      "(384,)\n"
     ]
    }
   ],
   "source": [
    "import numpy as np\n",
    "print(np.array(huggingface_embeddings.embed_query(final_documents[0].page_content)))\n",
    "print(np.array(huggingface_embeddings.embed_query(final_documents[0].page_content)).shape)"
   ]
  },
  {
   "cell_type": "code",
   "execution_count": 22,
   "metadata": {},
   "outputs": [],
   "source": [
    "vectorstore=Chroma.from_documents(final_documents[:120],huggingface_embeddings)"
   ]
  },
  {
   "cell_type": "code",
   "execution_count": 23,
   "metadata": {},
   "outputs": [
    {
     "ename": "NameError",
     "evalue": "name 'vetorstore' is not defined",
     "output_type": "error",
     "traceback": [
      "\u001b[1;31m---------------------------------------------------------------------------\u001b[0m",
      "\u001b[1;31mNameError\u001b[0m                                 Traceback (most recent call last)",
      "Cell \u001b[1;32mIn[23], line 2\u001b[0m\n\u001b[0;32m      1\u001b[0m query\u001b[38;5;241m=\u001b[39m\u001b[38;5;124m\"\u001b[39m\u001b[38;5;124mwhat is health insurance coverage\u001b[39m\u001b[38;5;124m\"\u001b[39m\n\u001b[1;32m----> 2\u001b[0m relevant_documents\u001b[38;5;241m=\u001b[39m\u001b[43mvetorstore\u001b[49m\u001b[38;5;241m.\u001b[39msimilarity_search(query)\n\u001b[0;32m      3\u001b[0m \u001b[38;5;28mprint\u001b[39m(relevant_documents[\u001b[38;5;241m0\u001b[39m]\u001b[38;5;241m.\u001b[39mpage_content)\n",
      "\u001b[1;31mNameError\u001b[0m: name 'vetorstore' is not defined"
     ]
    }
   ],
   "source": [
    "query=\"what is health insurance coverage\"\n",
    "relevant_documents=vetorstore.similarity_search(query)\n",
    "print(relevant_documents[0].page_content)"
   ]
  },
  {
   "cell_type": "code",
   "execution_count": null,
   "metadata": {},
   "outputs": [],
   "source": [
    "#get 3 results\n",
    "retriever=vectorstore.as_retriever(search_type=\"similarity\",search_kwargs={\"k\":3})\n",
    "print(retriever)"
   ]
  },
  {
   "cell_type": "code",
   "execution_count": null,
   "metadata": {},
   "outputs": [],
   "source": [
    "\n",
    "import os\n",
    "os.environ['HUGGINGFACEHUB_API_TOKEN']=\"\""
   ]
  },
  {
   "cell_type": "markdown",
   "metadata": {},
   "source": [
    "The Hugging Face Hub is an platform with over 350k models, 75k datasets, and 150k demo apps (Spaces), all open source and publicly available, in an online platform where people can easily collaborate and build ML together."
   ]
  },
  {
   "cell_type": "code",
   "execution_count": 5,
   "metadata": {},
   "outputs": [
    {
     "data": {
      "text/plain": [
       "316"
      ]
     },
     "execution_count": 5,
     "metadata": {},
     "output_type": "execute_result"
    }
   ],
   "source": [
    "from langchain_community.llms import HuggingFaceHub\n",
    "\n",
    "hf=HuggingFaceHub(\n",
    "    repo_id=\"mistralai/Mistral-7B-v0.1\",\n",
    "    model_kwargs={\"temperature\":0.1,\"max_length\":500}\n",
    "\n",
    ")\n",
    "query=\"What is the health insurance coverage?\"\n",
    "hf.invoke(query)"
   ]
  },
  {
   "cell_type": "code",
   "execution_count": null,
   "metadata": {},
   "outputs": [],
   "source": [
    "#Hugging Face models can be run locally through the HuggingFacePipeline class.\n",
    "from langchain_community.llms.huggingface_pipeline import HuggingFacePipeline\n",
    "\n",
    "hf = HuggingFacePipeline.from_model_id(\n",
    "    model_id=\"mistralai/Mistral-7B-v0.1\",\n",
    "    task=\"text-generation\",\n",
    "    pipeline_kwargs={\"temperature\": 0, \"max_new_tokens\": 300}\n",
    ")\n",
    "\n",
    "llm = hf \n",
    "llm.invoke(query)"
   ]
  },
  {
   "cell_type": "code",
   "execution_count": null,
   "metadata": {},
   "outputs": [],
   "source": [
    "prompt_template=\"\"\"\n",
    "Use the following piece of context to answer the question asked.\n",
    "Please try to provide the answer only based on the context\n",
    "\n",
    "{context}\n",
    "Question:{question}\n",
    "\n",
    "Helpful Answers:\n",
    " \"\"\""
   ]
  },
  {
   "cell_type": "code",
   "execution_count": null,
   "metadata": {},
   "outputs": [],
   "source": [
    "retrievalQA=RetrievalQA.from_chain_type(\n",
    "    llm=hf,\n",
    "    chain_type=\"stuff\",\n",
    "    retriever=retriever,\n",
    "    return_source_documents=True,\n",
    "    chain_type_kwargs={\"prompt\":prompt}\n",
    ")"
   ]
  },
  {
   "cell_type": "code",
   "execution_count": null,
   "metadata": {},
   "outputs": [],
   "source": [
    "query=\"\"\"DIFFERENCES IN THE\n",
    "UNINSURED RATE BY STATE\n",
    "IN 2022\"\"\""
   ]
  },
  {
   "cell_type": "code",
   "execution_count": null,
   "metadata": {},
   "outputs": [],
   "source": [
    "\n",
    "# Call the QA chain with our query.\n",
    "result = retrievalQA.invoke({\"query\": query})\n",
    "print(result['result'])"
   ]
  }
 ],
 "metadata": {
  "kernelspec": {
   "display_name": "Python 3",
   "language": "python",
   "name": "python3"
  },
  "language_info": {
   "codemirror_mode": {
    "name": "ipython",
    "version": 3
   },
   "file_extension": ".py",
   "mimetype": "text/x-python",
   "name": "python",
   "nbconvert_exporter": "python",
   "pygments_lexer": "ipython3",
   "version": "3.10.14"
  }
 },
 "nbformat": 4,
 "nbformat_minor": 2
}
